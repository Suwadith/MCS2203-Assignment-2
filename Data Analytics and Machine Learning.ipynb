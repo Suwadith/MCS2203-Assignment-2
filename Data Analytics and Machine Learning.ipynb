{
 "cells": [
  {
   "cell_type": "code",
   "execution_count": 1,
   "metadata": {},
   "outputs": [],
   "source": [
    "#Importing Libraries\n",
    "import numpy as np #To handle Mathematical calculations\n",
    "import matplotlib.pyplot as plt #To plot charts \n",
    "import pandas as pd #TO import and manage datasets\n",
    "import glob\n",
    "import os\n",
    "\n",
    "import warnings\n",
    "warnings.simplefilter(action='ignore', category=FutureWarning)"
   ]
  },
  {
   "cell_type": "code",
   "execution_count": 2,
   "metadata": {},
   "outputs": [],
   "source": [
    "#Importing datasets\n",
    "\n",
    "training_path = 'Datasets/Training Data.csv'\n",
    "training_data = pd.read_csv(training_path)\n",
    "\n",
    "test_path = 'Datasets/Test Data.csv'\n",
    "test_data = pd.read_csv(test_path)"
   ]
  },
  {
   "cell_type": "code",
   "execution_count": 3,
   "metadata": {},
   "outputs": [
    {
     "data": {
      "text/plain": [
       "ID        int64\n",
       "A1        int64\n",
       "A2        int64\n",
       "A3        int64\n",
       "A4        int64\n",
       "A5        int64\n",
       "A6       object\n",
       "A7        int64\n",
       "A8        int64\n",
       "A9        int64\n",
       "Class     int64\n",
       "dtype: object"
      ]
     },
     "execution_count": 3,
     "metadata": {},
     "output_type": "execute_result"
    }
   ],
   "source": [
    "#Listing Data types\n",
    "\n",
    "training_data.dtypes"
   ]
  },
  {
   "cell_type": "code",
   "execution_count": 4,
   "metadata": {},
   "outputs": [],
   "source": [
    "#Removing rows with '?' (Data cleaning)\n",
    "\n",
    "training_data = training_data[training_data['A6'] != '?']\n",
    "test_data = test_data[test_data['A6'] != '?']"
   ]
  },
  {
   "cell_type": "code",
   "execution_count": 5,
   "metadata": {},
   "outputs": [],
   "source": [
    "#Splitting datasets into test and training data\n",
    "\n",
    "y_train = training_data.iloc[:,10]\n",
    "X_train = training_data.iloc[:,1:10]\n",
    "\n",
    "y_test = test_data.iloc[:,10]\n",
    "X_test = test_data.iloc[:,1:10]"
   ]
  },
  {
   "cell_type": "code",
   "execution_count": 6,
   "metadata": {},
   "outputs": [],
   "source": [
    "from sklearn.model_selection import cross_val_score"
   ]
  },
  {
   "cell_type": "code",
   "execution_count": 7,
   "metadata": {},
   "outputs": [
    {
     "data": {
      "text/plain": [
       "LogisticRegression(C=1.0, class_weight=None, dual=False, fit_intercept=True,\n",
       "                   intercept_scaling=1, l1_ratio=None, max_iter=100,\n",
       "                   multi_class='warn', n_jobs=None, penalty='l2',\n",
       "                   random_state=None, solver='warn', tol=0.0001, verbose=0,\n",
       "                   warm_start=False)"
      ]
     },
     "execution_count": 7,
     "metadata": {},
     "output_type": "execute_result"
    }
   ],
   "source": [
    "#Trying out with Logistic Regression\n",
    "\n",
    "from sklearn.linear_model import LogisticRegression\n",
    "logreg = LogisticRegression()\n",
    "logreg.fit(X_train, y_train)\n",
    "# print('Accuracy of Logistic regression classifier on training set: {:.2f}'\n",
    "#      .format(cross_val_score(logreg, X_train, y_train, cv = 10, scoring='accuracy').mean()))\n",
    "# print('Accuracy of Logistic regression classifier on test set: {:.2f}'\n",
    "#      .format(cross_val_score(logreg, X_test, y_test, cv = 10, scoring='accuracy').mean()))"
   ]
  },
  {
   "cell_type": "code",
   "execution_count": 8,
   "metadata": {},
   "outputs": [
    {
     "name": "stdout",
     "output_type": "stream",
     "text": [
      "Confusion Matrix\n",
      "[[134   3]\n",
      " [  2  64]]\n"
     ]
    }
   ],
   "source": [
    "#Confusion Matrix\n",
    "\n",
    "from sklearn.metrics import classification_report\n",
    "from sklearn.metrics import confusion_matrix\n",
    "y_pred = logreg.predict(X_test)\n",
    "print('Confusion Matrix')\n",
    "print(confusion_matrix(y_test, y_pred))"
   ]
  },
  {
   "cell_type": "code",
   "execution_count": 9,
   "metadata": {},
   "outputs": [
    {
     "name": "stdout",
     "output_type": "stream",
     "text": [
      "True Positives: 64\n",
      "True Negatives: 134\n",
      "False Positives: 3\n",
      "False Negatives: 2\n",
      "--------------------------------------------------\n",
      "Accuracy: 0.98\n",
      "Sensitivity: 0.97\n",
      "Specificity: 0.98\n",
      "Precision: 0.98\n"
     ]
    }
   ],
   "source": [
    "#More traditional approach of using Confusion matrix to find all the needed parameters\n",
    "\n",
    "TP = confusion_matrix(y_test, y_pred)[1][1]\n",
    "TN = confusion_matrix(y_test, y_pred)[0][0]\n",
    "FP = confusion_matrix(y_test, y_pred)[0][1]\n",
    "FN = confusion_matrix(y_test, y_pred)[1][0]\n",
    "\n",
    "print('True Positives:', TP)\n",
    "print('True Negatives:', TN)\n",
    "print('False Positives:', FP)\n",
    "print('False Negatives:', FN)\n",
    "\n",
    "# calculate accuracy\n",
    "conf_accuracy = (float (TP+TN) / float(TP + TN + FP + FN))\n",
    "\n",
    "# calculate the sensitivity\n",
    "conf_sensitivity = (TP / float(TP + FN))\n",
    "\n",
    "# calculate the specificity\n",
    "conf_specificity = (TN / float(TN + FP))\n",
    "\n",
    "# calculate precision\n",
    "conf_precision = (TN / float(TN + FP))\n",
    "\n",
    "print('-'*50)\n",
    "\n",
    "print(f'Accuracy: {round(conf_accuracy,2)}') \n",
    "print(f'Sensitivity: {round(conf_sensitivity,2)}') \n",
    "print(f'Specificity: {round(conf_specificity,2)}') \n",
    "print(f'Precision: {round(conf_precision,2)}')"
   ]
  }
 ],
 "metadata": {
  "kernelspec": {
   "display_name": "Python 3",
   "language": "python",
   "name": "python3"
  },
  "language_info": {
   "codemirror_mode": {
    "name": "ipython",
    "version": 3
   },
   "file_extension": ".py",
   "mimetype": "text/x-python",
   "name": "python",
   "nbconvert_exporter": "python",
   "pygments_lexer": "ipython3",
   "version": "3.7.4"
  }
 },
 "nbformat": 4,
 "nbformat_minor": 2
}
